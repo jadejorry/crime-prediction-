{
 "cells": [
  {
   "cell_type": "code",
   "execution_count": 1,
   "metadata": {},
   "outputs": [],
   "source": [
    "import pandas as pd\n",
    "import numpy as np\n",
    "import matplotlib.pyplot as plt\n",
    "import seaborn as sns\n",
    "from matplotlib.patches import Rectangle\n",
    "import matplotlib.cm as cm\n",
    "\n",
    "%matplotlib notebook\n",
    "plt.style.use('seaborn-white')"
   ]
  },
  {
   "cell_type": "code",
   "execution_count": 2,
   "metadata": {},
   "outputs": [
    {
     "data": {
      "text/html": [
       "<div>\n",
       "<style scoped>\n",
       "    .dataframe tbody tr th:only-of-type {\n",
       "        vertical-align: middle;\n",
       "    }\n",
       "\n",
       "    .dataframe tbody tr th {\n",
       "        vertical-align: top;\n",
       "    }\n",
       "\n",
       "    .dataframe thead th {\n",
       "        text-align: right;\n",
       "    }\n",
       "</style>\n",
       "<table border=\"1\" class=\"dataframe\">\n",
       "  <thead>\n",
       "    <tr style=\"text-align: right;\">\n",
       "      <th></th>\n",
       "      <th>Crime ID</th>\n",
       "      <th>Month</th>\n",
       "      <th>Reported by</th>\n",
       "      <th>Falls within</th>\n",
       "      <th>Longitude</th>\n",
       "      <th>Latitude</th>\n",
       "      <th>Location</th>\n",
       "      <th>LSOA code</th>\n",
       "      <th>LSOA name</th>\n",
       "      <th>Crime type</th>\n",
       "      <th>Last outcome category</th>\n",
       "      <th>Context</th>\n",
       "    </tr>\n",
       "  </thead>\n",
       "  <tbody>\n",
       "    <tr>\n",
       "      <th>0</th>\n",
       "      <td>324a40f7da5f81b2f6c96bc6fe3e300173782e3342f409...</td>\n",
       "      <td>2014-06</td>\n",
       "      <td>City of London Police</td>\n",
       "      <td>City of London Police</td>\n",
       "      <td>-0.113767</td>\n",
       "      <td>51.517372</td>\n",
       "      <td>On or near Stone Buildings</td>\n",
       "      <td>E01000914</td>\n",
       "      <td>Camden 028B</td>\n",
       "      <td>Vehicle crime</td>\n",
       "      <td>Investigation complete; no suspect identified</td>\n",
       "      <td>NaN</td>\n",
       "    </tr>\n",
       "    <tr>\n",
       "      <th>1</th>\n",
       "      <td>62dde92ceeb12755a8a95a2829048ce4796ba3cfb3f7c0...</td>\n",
       "      <td>2014-06</td>\n",
       "      <td>City of London Police</td>\n",
       "      <td>City of London Police</td>\n",
       "      <td>-0.111497</td>\n",
       "      <td>51.518226</td>\n",
       "      <td>On or near Pedestrian Subway</td>\n",
       "      <td>E01000914</td>\n",
       "      <td>Camden 028B</td>\n",
       "      <td>Violence and sexual offences</td>\n",
       "      <td>Unable to prosecute suspect</td>\n",
       "      <td>NaN</td>\n",
       "    </tr>\n",
       "    <tr>\n",
       "      <th>2</th>\n",
       "      <td>NaN</td>\n",
       "      <td>2014-06</td>\n",
       "      <td>City of London Police</td>\n",
       "      <td>City of London Police</td>\n",
       "      <td>-0.097601</td>\n",
       "      <td>51.520699</td>\n",
       "      <td>On or near Carthusian Street</td>\n",
       "      <td>E01000001</td>\n",
       "      <td>City of London 001A</td>\n",
       "      <td>Anti-social behaviour</td>\n",
       "      <td>NaN</td>\n",
       "      <td>NaN</td>\n",
       "    </tr>\n",
       "    <tr>\n",
       "      <th>3</th>\n",
       "      <td>NaN</td>\n",
       "      <td>2014-06</td>\n",
       "      <td>City of London Police</td>\n",
       "      <td>City of London Police</td>\n",
       "      <td>-0.097601</td>\n",
       "      <td>51.520699</td>\n",
       "      <td>On or near Carthusian Street</td>\n",
       "      <td>E01000001</td>\n",
       "      <td>City of London 001A</td>\n",
       "      <td>Anti-social behaviour</td>\n",
       "      <td>NaN</td>\n",
       "      <td>NaN</td>\n",
       "    </tr>\n",
       "    <tr>\n",
       "      <th>4</th>\n",
       "      <td>NaN</td>\n",
       "      <td>2014-06</td>\n",
       "      <td>City of London Police</td>\n",
       "      <td>City of London Police</td>\n",
       "      <td>-0.097601</td>\n",
       "      <td>51.520699</td>\n",
       "      <td>On or near Carthusian Street</td>\n",
       "      <td>E01000001</td>\n",
       "      <td>City of London 001A</td>\n",
       "      <td>Anti-social behaviour</td>\n",
       "      <td>NaN</td>\n",
       "      <td>NaN</td>\n",
       "    </tr>\n",
       "  </tbody>\n",
       "</table>\n",
       "</div>"
      ],
      "text/plain": [
       "                                            Crime ID    Month  \\\n",
       "0  324a40f7da5f81b2f6c96bc6fe3e300173782e3342f409...  2014-06   \n",
       "1  62dde92ceeb12755a8a95a2829048ce4796ba3cfb3f7c0...  2014-06   \n",
       "2                                                NaN  2014-06   \n",
       "3                                                NaN  2014-06   \n",
       "4                                                NaN  2014-06   \n",
       "\n",
       "             Reported by           Falls within  Longitude   Latitude  \\\n",
       "0  City of London Police  City of London Police  -0.113767  51.517372   \n",
       "1  City of London Police  City of London Police  -0.111497  51.518226   \n",
       "2  City of London Police  City of London Police  -0.097601  51.520699   \n",
       "3  City of London Police  City of London Police  -0.097601  51.520699   \n",
       "4  City of London Police  City of London Police  -0.097601  51.520699   \n",
       "\n",
       "                       Location  LSOA code            LSOA name  \\\n",
       "0    On or near Stone Buildings  E01000914          Camden 028B   \n",
       "1  On or near Pedestrian Subway  E01000914          Camden 028B   \n",
       "2  On or near Carthusian Street  E01000001  City of London 001A   \n",
       "3  On or near Carthusian Street  E01000001  City of London 001A   \n",
       "4  On or near Carthusian Street  E01000001  City of London 001A   \n",
       "\n",
       "                     Crime type  \\\n",
       "0                 Vehicle crime   \n",
       "1  Violence and sexual offences   \n",
       "2         Anti-social behaviour   \n",
       "3         Anti-social behaviour   \n",
       "4         Anti-social behaviour   \n",
       "\n",
       "                           Last outcome category  Context  \n",
       "0  Investigation complete; no suspect identified      NaN  \n",
       "1                    Unable to prosecute suspect      NaN  \n",
       "2                                            NaN      NaN  \n",
       "3                                            NaN      NaN  \n",
       "4                                            NaN      NaN  "
      ]
     },
     "execution_count": 2,
     "metadata": {},
     "output_type": "execute_result"
    }
   ],
   "source": [
    "df = pd.read_csv(\"london-street.csv\")\n",
    "df.head()"
   ]
  },
  {
   "cell_type": "code",
   "execution_count": 3,
   "metadata": {},
   "outputs": [
    {
     "data": {
      "text/plain": [
       "2946479"
      ]
     },
     "execution_count": 3,
     "metadata": {},
     "output_type": "execute_result"
    }
   ],
   "source": [
    "len(df)"
   ]
  },
  {
   "cell_type": "code",
   "execution_count": 4,
   "metadata": {},
   "outputs": [
    {
     "data": {
      "text/plain": [
       "Crime ID                  708264\n",
       "Month                          0\n",
       "Reported by                    0\n",
       "Falls within                   0\n",
       "Longitude                  34678\n",
       "Latitude                   34678\n",
       "Location                       0\n",
       "LSOA code                  34678\n",
       "LSOA name                  34678\n",
       "Crime type                     0\n",
       "Last outcome category     708264\n",
       "Context                  2946479\n",
       "dtype: int64"
      ]
     },
     "execution_count": 4,
     "metadata": {},
     "output_type": "execute_result"
    }
   ],
   "source": [
    "df.isnull().sum()"
   ]
  },
  {
   "cell_type": "code",
   "execution_count": 5,
   "metadata": {},
   "outputs": [],
   "source": [
    "df.drop(['Crime ID', 'Context'], axis=1, inplace=True) # removing mostly-emplty columns\n",
    "df.dropna(inplace=True)"
   ]
  },
  {
   "cell_type": "code",
   "execution_count": 6,
   "metadata": {},
   "outputs": [
    {
     "data": {
      "text/plain": [
       "Month                    0\n",
       "Reported by              0\n",
       "Falls within             0\n",
       "Longitude                0\n",
       "Latitude                 0\n",
       "Location                 0\n",
       "LSOA code                0\n",
       "LSOA name                0\n",
       "Crime type               0\n",
       "Last outcome category    0\n",
       "dtype: int64"
      ]
     },
     "execution_count": 6,
     "metadata": {},
     "output_type": "execute_result"
    }
   ],
   "source": [
    "df.isnull().sum()\n"
   ]
  },
  {
   "cell_type": "code",
   "execution_count": 7,
   "metadata": {},
   "outputs": [],
   "source": [
    "# Add year to the data and filter by year . \n",
    "df['Year'] = df['Month'].apply(lambda x: x.split('-')[0].strip())\n",
    "df = df.loc[df['Year'] == '2016']"
   ]
  },
  {
   "cell_type": "code",
   "execution_count": 8,
   "metadata": {},
   "outputs": [
    {
     "data": {
      "text/html": [
       "<div>\n",
       "<style scoped>\n",
       "    .dataframe tbody tr th:only-of-type {\n",
       "        vertical-align: middle;\n",
       "    }\n",
       "\n",
       "    .dataframe tbody tr th {\n",
       "        vertical-align: top;\n",
       "    }\n",
       "\n",
       "    .dataframe thead th {\n",
       "        text-align: right;\n",
       "    }\n",
       "</style>\n",
       "<table border=\"1\" class=\"dataframe\">\n",
       "  <thead>\n",
       "    <tr style=\"text-align: right;\">\n",
       "      <th></th>\n",
       "      <th>Month</th>\n",
       "      <th>Reported by</th>\n",
       "      <th>Falls within</th>\n",
       "      <th>Longitude</th>\n",
       "      <th>Latitude</th>\n",
       "      <th>Location</th>\n",
       "      <th>LSOA code</th>\n",
       "      <th>LSOA name</th>\n",
       "      <th>Crime type</th>\n",
       "      <th>Last outcome category</th>\n",
       "      <th>Year</th>\n",
       "    </tr>\n",
       "  </thead>\n",
       "  <tbody>\n",
       "    <tr>\n",
       "      <th>10070</th>\n",
       "      <td>2016-01</td>\n",
       "      <td>City of London Police</td>\n",
       "      <td>City of London Police</td>\n",
       "      <td>-0.113767</td>\n",
       "      <td>51.517372</td>\n",
       "      <td>On or near Stone Buildings</td>\n",
       "      <td>E01000914</td>\n",
       "      <td>Camden 028B</td>\n",
       "      <td>Other theft</td>\n",
       "      <td>Investigation complete; no suspect identified</td>\n",
       "      <td>2016</td>\n",
       "    </tr>\n",
       "    <tr>\n",
       "      <th>10075</th>\n",
       "      <td>2016-01</td>\n",
       "      <td>City of London Police</td>\n",
       "      <td>City of London Police</td>\n",
       "      <td>-0.098572</td>\n",
       "      <td>51.516767</td>\n",
       "      <td>On or near King Edward Street</td>\n",
       "      <td>E01000001</td>\n",
       "      <td>City of London 001A</td>\n",
       "      <td>Bicycle theft</td>\n",
       "      <td>Investigation complete; no suspect identified</td>\n",
       "      <td>2016</td>\n",
       "    </tr>\n",
       "    <tr>\n",
       "      <th>10076</th>\n",
       "      <td>2016-01</td>\n",
       "      <td>City of London Police</td>\n",
       "      <td>City of London Police</td>\n",
       "      <td>-0.097601</td>\n",
       "      <td>51.520699</td>\n",
       "      <td>On or near Carthusian Street</td>\n",
       "      <td>E01000001</td>\n",
       "      <td>City of London 001A</td>\n",
       "      <td>Bicycle theft</td>\n",
       "      <td>Investigation complete; no suspect identified</td>\n",
       "      <td>2016</td>\n",
       "    </tr>\n",
       "    <tr>\n",
       "      <th>10077</th>\n",
       "      <td>2016-01</td>\n",
       "      <td>City of London Police</td>\n",
       "      <td>City of London Police</td>\n",
       "      <td>-0.098572</td>\n",
       "      <td>51.516767</td>\n",
       "      <td>On or near King Edward Street</td>\n",
       "      <td>E01000001</td>\n",
       "      <td>City of London 001A</td>\n",
       "      <td>Bicycle theft</td>\n",
       "      <td>Investigation complete; no suspect identified</td>\n",
       "      <td>2016</td>\n",
       "    </tr>\n",
       "    <tr>\n",
       "      <th>10078</th>\n",
       "      <td>2016-01</td>\n",
       "      <td>City of London Police</td>\n",
       "      <td>City of London Police</td>\n",
       "      <td>-0.097334</td>\n",
       "      <td>51.521567</td>\n",
       "      <td>On or near Fann Street</td>\n",
       "      <td>E01000001</td>\n",
       "      <td>City of London 001A</td>\n",
       "      <td>Burglary</td>\n",
       "      <td>Investigation complete; no suspect identified</td>\n",
       "      <td>2016</td>\n",
       "    </tr>\n",
       "  </tbody>\n",
       "</table>\n",
       "</div>"
      ],
      "text/plain": [
       "         Month            Reported by           Falls within  Longitude  \\\n",
       "10070  2016-01  City of London Police  City of London Police  -0.113767   \n",
       "10075  2016-01  City of London Police  City of London Police  -0.098572   \n",
       "10076  2016-01  City of London Police  City of London Police  -0.097601   \n",
       "10077  2016-01  City of London Police  City of London Police  -0.098572   \n",
       "10078  2016-01  City of London Police  City of London Police  -0.097334   \n",
       "\n",
       "        Latitude                       Location  LSOA code  \\\n",
       "10070  51.517372     On or near Stone Buildings  E01000914   \n",
       "10075  51.516767  On or near King Edward Street  E01000001   \n",
       "10076  51.520699   On or near Carthusian Street  E01000001   \n",
       "10077  51.516767  On or near King Edward Street  E01000001   \n",
       "10078  51.521567         On or near Fann Street  E01000001   \n",
       "\n",
       "                 LSOA name     Crime type  \\\n",
       "10070          Camden 028B    Other theft   \n",
       "10075  City of London 001A  Bicycle theft   \n",
       "10076  City of London 001A  Bicycle theft   \n",
       "10077  City of London 001A  Bicycle theft   \n",
       "10078  City of London 001A       Burglary   \n",
       "\n",
       "                               Last outcome category  Year  \n",
       "10070  Investigation complete; no suspect identified  2016  \n",
       "10075  Investigation complete; no suspect identified  2016  \n",
       "10076  Investigation complete; no suspect identified  2016  \n",
       "10077  Investigation complete; no suspect identified  2016  \n",
       "10078  Investigation complete; no suspect identified  2016  "
      ]
     },
     "execution_count": 8,
     "metadata": {},
     "output_type": "execute_result"
    }
   ],
   "source": [
    "df.head()"
   ]
  },
  {
   "cell_type": "code",
   "execution_count": 25,
   "metadata": {},
   "outputs": [
    {
     "data": {
      "text/plain": [
       "5946"
      ]
     },
     "execution_count": 25,
     "metadata": {},
     "output_type": "execute_result"
    }
   ],
   "source": [
    "len(df[\"LSOA name\"].unique())"
   ]
  },
  {
   "cell_type": "code",
   "execution_count": 53,
   "metadata": {},
   "outputs": [
    {
     "data": {
      "text/plain": [
       "749702"
      ]
     },
     "execution_count": 53,
     "metadata": {},
     "output_type": "execute_result"
    }
   ],
   "source": [
    "len(df)"
   ]
  },
  {
   "cell_type": "code",
   "execution_count": 54,
   "metadata": {},
   "outputs": [
    {
     "data": {
      "text/html": [
       "<div>\n",
       "<style scoped>\n",
       "    .dataframe tbody tr th:only-of-type {\n",
       "        vertical-align: middle;\n",
       "    }\n",
       "\n",
       "    .dataframe tbody tr th {\n",
       "        vertical-align: top;\n",
       "    }\n",
       "\n",
       "    .dataframe thead th {\n",
       "        text-align: right;\n",
       "    }\n",
       "</style>\n",
       "<table border=\"1\" class=\"dataframe\">\n",
       "  <thead>\n",
       "    <tr style=\"text-align: right;\">\n",
       "      <th></th>\n",
       "      <th>LSOA code</th>\n",
       "      <th>Month</th>\n",
       "      <th>Bicycle theft</th>\n",
       "      <th>Burglary</th>\n",
       "      <th>Criminal damage and arson</th>\n",
       "      <th>Drugs</th>\n",
       "      <th>Other theft</th>\n",
       "      <th>Possession of weapons</th>\n",
       "      <th>Public order</th>\n",
       "      <th>Robbery</th>\n",
       "      <th>Shoplifting</th>\n",
       "      <th>Theft from the person</th>\n",
       "      <th>Vehicle crime</th>\n",
       "      <th>Violence and sexual offences</th>\n",
       "    </tr>\n",
       "  </thead>\n",
       "  <tbody>\n",
       "    <tr>\n",
       "      <th>0</th>\n",
       "      <td>E01000001</td>\n",
       "      <td>2016-01</td>\n",
       "      <td>3</td>\n",
       "      <td>1</td>\n",
       "      <td>0</td>\n",
       "      <td>1</td>\n",
       "      <td>7</td>\n",
       "      <td>0</td>\n",
       "      <td>0</td>\n",
       "      <td>0</td>\n",
       "      <td>1</td>\n",
       "      <td>1</td>\n",
       "      <td>0</td>\n",
       "      <td>1</td>\n",
       "    </tr>\n",
       "    <tr>\n",
       "      <th>1</th>\n",
       "      <td>E01000001</td>\n",
       "      <td>2016-02</td>\n",
       "      <td>1</td>\n",
       "      <td>0</td>\n",
       "      <td>1</td>\n",
       "      <td>0</td>\n",
       "      <td>8</td>\n",
       "      <td>0</td>\n",
       "      <td>0</td>\n",
       "      <td>0</td>\n",
       "      <td>0</td>\n",
       "      <td>2</td>\n",
       "      <td>0</td>\n",
       "      <td>1</td>\n",
       "    </tr>\n",
       "    <tr>\n",
       "      <th>2</th>\n",
       "      <td>E01000001</td>\n",
       "      <td>2016-03</td>\n",
       "      <td>2</td>\n",
       "      <td>0</td>\n",
       "      <td>1</td>\n",
       "      <td>0</td>\n",
       "      <td>6</td>\n",
       "      <td>0</td>\n",
       "      <td>0</td>\n",
       "      <td>0</td>\n",
       "      <td>1</td>\n",
       "      <td>2</td>\n",
       "      <td>0</td>\n",
       "      <td>2</td>\n",
       "    </tr>\n",
       "    <tr>\n",
       "      <th>3</th>\n",
       "      <td>E01000001</td>\n",
       "      <td>2016-04</td>\n",
       "      <td>4</td>\n",
       "      <td>1</td>\n",
       "      <td>0</td>\n",
       "      <td>0</td>\n",
       "      <td>3</td>\n",
       "      <td>0</td>\n",
       "      <td>0</td>\n",
       "      <td>0</td>\n",
       "      <td>2</td>\n",
       "      <td>2</td>\n",
       "      <td>0</td>\n",
       "      <td>0</td>\n",
       "    </tr>\n",
       "    <tr>\n",
       "      <th>4</th>\n",
       "      <td>E01000001</td>\n",
       "      <td>2016-05</td>\n",
       "      <td>2</td>\n",
       "      <td>1</td>\n",
       "      <td>0</td>\n",
       "      <td>1</td>\n",
       "      <td>3</td>\n",
       "      <td>0</td>\n",
       "      <td>1</td>\n",
       "      <td>0</td>\n",
       "      <td>3</td>\n",
       "      <td>2</td>\n",
       "      <td>2</td>\n",
       "      <td>1</td>\n",
       "    </tr>\n",
       "  </tbody>\n",
       "</table>\n",
       "</div>"
      ],
      "text/plain": [
       "   LSOA code    Month  Bicycle theft  Burglary  Criminal damage and arson  \\\n",
       "0  E01000001  2016-01              3         1                          0   \n",
       "1  E01000001  2016-02              1         0                          1   \n",
       "2  E01000001  2016-03              2         0                          1   \n",
       "3  E01000001  2016-04              4         1                          0   \n",
       "4  E01000001  2016-05              2         1                          0   \n",
       "\n",
       "   Drugs  Other theft  Possession of weapons  Public order  Robbery  \\\n",
       "0      1            7                      0             0        0   \n",
       "1      0            8                      0             0        0   \n",
       "2      0            6                      0             0        0   \n",
       "3      0            3                      0             0        0   \n",
       "4      1            3                      0             1        0   \n",
       "\n",
       "   Shoplifting  Theft from the person  Vehicle crime  \\\n",
       "0            1                      1              0   \n",
       "1            0                      2              0   \n",
       "2            1                      2              0   \n",
       "3            2                      2              0   \n",
       "4            3                      2              2   \n",
       "\n",
       "   Violence and sexual offences  \n",
       "0                             1  \n",
       "1                             1  \n",
       "2                             2  \n",
       "3                             0  \n",
       "4                             1  "
      ]
     },
     "execution_count": 54,
     "metadata": {},
     "output_type": "execute_result"
    }
   ],
   "source": [
    "# Preparing the data:\n",
    "\n",
    "# Grouping data by location (LSOA code) and by time. A single data point\n",
    "# correstonds to all crimes of a given type commited in one LSOA in one month,\n",
    "# e.g all bicycle thefts in LSOA E01000001 in Jun 2016.\n",
    "\n",
    "df1 = pd.crosstab([df['LSOA code'], df['Month']], \n",
    "                  df['Crime type']) # creates a column for each crime type\n",
    "df1.drop('Other crime', axis=1, inplace=True)\n",
    "df1.reset_index(inplace=True)\n",
    "df1.columns.name = None # simplifies plot labelling\n",
    "df1.head()"
   ]
  },
  {
   "cell_type": "code",
   "execution_count": 55,
   "metadata": {},
   "outputs": [],
   "source": [
    "# len(df[\"LSOA code\"].unique())"
   ]
  },
  {
   "cell_type": "code",
   "execution_count": 56,
   "metadata": {},
   "outputs": [],
   "source": [
    "df1.drop(\"Month\", axis=1, inplace=True)"
   ]
  },
  {
   "cell_type": "code",
   "execution_count": 57,
   "metadata": {},
   "outputs": [
    {
     "data": {
      "text/html": [
       "<div>\n",
       "<style scoped>\n",
       "    .dataframe tbody tr th:only-of-type {\n",
       "        vertical-align: middle;\n",
       "    }\n",
       "\n",
       "    .dataframe tbody tr th {\n",
       "        vertical-align: top;\n",
       "    }\n",
       "\n",
       "    .dataframe thead th {\n",
       "        text-align: right;\n",
       "    }\n",
       "</style>\n",
       "<table border=\"1\" class=\"dataframe\">\n",
       "  <thead>\n",
       "    <tr style=\"text-align: right;\">\n",
       "      <th></th>\n",
       "      <th>LSOA code</th>\n",
       "      <th>Bicycle theft</th>\n",
       "      <th>Burglary</th>\n",
       "      <th>Criminal damage and arson</th>\n",
       "      <th>Drugs</th>\n",
       "      <th>Other theft</th>\n",
       "      <th>Possession of weapons</th>\n",
       "      <th>Public order</th>\n",
       "      <th>Robbery</th>\n",
       "      <th>Shoplifting</th>\n",
       "      <th>Theft from the person</th>\n",
       "      <th>Vehicle crime</th>\n",
       "      <th>Violence and sexual offences</th>\n",
       "    </tr>\n",
       "  </thead>\n",
       "  <tbody>\n",
       "    <tr>\n",
       "      <th>0</th>\n",
       "      <td>E01000001</td>\n",
       "      <td>3</td>\n",
       "      <td>1</td>\n",
       "      <td>0</td>\n",
       "      <td>1</td>\n",
       "      <td>7</td>\n",
       "      <td>0</td>\n",
       "      <td>0</td>\n",
       "      <td>0</td>\n",
       "      <td>1</td>\n",
       "      <td>1</td>\n",
       "      <td>0</td>\n",
       "      <td>1</td>\n",
       "    </tr>\n",
       "    <tr>\n",
       "      <th>1</th>\n",
       "      <td>E01000001</td>\n",
       "      <td>1</td>\n",
       "      <td>0</td>\n",
       "      <td>1</td>\n",
       "      <td>0</td>\n",
       "      <td>8</td>\n",
       "      <td>0</td>\n",
       "      <td>0</td>\n",
       "      <td>0</td>\n",
       "      <td>0</td>\n",
       "      <td>2</td>\n",
       "      <td>0</td>\n",
       "      <td>1</td>\n",
       "    </tr>\n",
       "    <tr>\n",
       "      <th>2</th>\n",
       "      <td>E01000001</td>\n",
       "      <td>2</td>\n",
       "      <td>0</td>\n",
       "      <td>1</td>\n",
       "      <td>0</td>\n",
       "      <td>6</td>\n",
       "      <td>0</td>\n",
       "      <td>0</td>\n",
       "      <td>0</td>\n",
       "      <td>1</td>\n",
       "      <td>2</td>\n",
       "      <td>0</td>\n",
       "      <td>2</td>\n",
       "    </tr>\n",
       "    <tr>\n",
       "      <th>3</th>\n",
       "      <td>E01000001</td>\n",
       "      <td>4</td>\n",
       "      <td>1</td>\n",
       "      <td>0</td>\n",
       "      <td>0</td>\n",
       "      <td>3</td>\n",
       "      <td>0</td>\n",
       "      <td>0</td>\n",
       "      <td>0</td>\n",
       "      <td>2</td>\n",
       "      <td>2</td>\n",
       "      <td>0</td>\n",
       "      <td>0</td>\n",
       "    </tr>\n",
       "    <tr>\n",
       "      <th>4</th>\n",
       "      <td>E01000001</td>\n",
       "      <td>2</td>\n",
       "      <td>1</td>\n",
       "      <td>0</td>\n",
       "      <td>1</td>\n",
       "      <td>3</td>\n",
       "      <td>0</td>\n",
       "      <td>1</td>\n",
       "      <td>0</td>\n",
       "      <td>3</td>\n",
       "      <td>2</td>\n",
       "      <td>2</td>\n",
       "      <td>1</td>\n",
       "    </tr>\n",
       "  </tbody>\n",
       "</table>\n",
       "</div>"
      ],
      "text/plain": [
       "   LSOA code  Bicycle theft  Burglary  Criminal damage and arson  Drugs  \\\n",
       "0  E01000001              3         1                          0      1   \n",
       "1  E01000001              1         0                          1      0   \n",
       "2  E01000001              2         0                          1      0   \n",
       "3  E01000001              4         1                          0      0   \n",
       "4  E01000001              2         1                          0      1   \n",
       "\n",
       "   Other theft  Possession of weapons  Public order  Robbery  Shoplifting  \\\n",
       "0            7                      0             0        0            1   \n",
       "1            8                      0             0        0            0   \n",
       "2            6                      0             0        0            1   \n",
       "3            3                      0             0        0            2   \n",
       "4            3                      0             1        0            3   \n",
       "\n",
       "   Theft from the person  Vehicle crime  Violence and sexual offences  \n",
       "0                      1              0                             1  \n",
       "1                      2              0                             1  \n",
       "2                      2              0                             2  \n",
       "3                      2              0                             0  \n",
       "4                      2              2                             1  "
      ]
     },
     "execution_count": 57,
     "metadata": {},
     "output_type": "execute_result"
    }
   ],
   "source": [
    "df1.head()"
   ]
  },
  {
   "cell_type": "code",
   "execution_count": 58,
   "metadata": {},
   "outputs": [
    {
     "data": {
      "text/plain": [
       "58894"
      ]
     },
     "execution_count": 58,
     "metadata": {},
     "output_type": "execute_result"
    }
   ],
   "source": [
    "len(df1)"
   ]
  },
  {
   "cell_type": "code",
   "execution_count": 59,
   "metadata": {},
   "outputs": [],
   "source": [
    "df1 = df1.groupby(\"LSOA code\").sum()"
   ]
  },
  {
   "cell_type": "code",
   "execution_count": 83,
   "metadata": {},
   "outputs": [
    {
     "data": {
      "text/html": [
       "<div>\n",
       "<style scoped>\n",
       "    .dataframe tbody tr th:only-of-type {\n",
       "        vertical-align: middle;\n",
       "    }\n",
       "\n",
       "    .dataframe tbody tr th {\n",
       "        vertical-align: top;\n",
       "    }\n",
       "\n",
       "    .dataframe thead th {\n",
       "        text-align: right;\n",
       "    }\n",
       "</style>\n",
       "<table border=\"1\" class=\"dataframe\">\n",
       "  <thead>\n",
       "    <tr style=\"text-align: right;\">\n",
       "      <th></th>\n",
       "      <th>Bicycle theft</th>\n",
       "      <th>Burglary</th>\n",
       "      <th>Criminal damage and arson</th>\n",
       "      <th>Drugs</th>\n",
       "      <th>Other theft</th>\n",
       "      <th>Possession of weapons</th>\n",
       "      <th>Public order</th>\n",
       "      <th>Robbery</th>\n",
       "      <th>Shoplifting</th>\n",
       "      <th>Theft from the person</th>\n",
       "      <th>Vehicle crime</th>\n",
       "      <th>Violence and sexual offences</th>\n",
       "      <th>LSOA code</th>\n",
       "    </tr>\n",
       "    <tr>\n",
       "      <th>LSOA code</th>\n",
       "      <th></th>\n",
       "      <th></th>\n",
       "      <th></th>\n",
       "      <th></th>\n",
       "      <th></th>\n",
       "      <th></th>\n",
       "      <th></th>\n",
       "      <th></th>\n",
       "      <th></th>\n",
       "      <th></th>\n",
       "      <th></th>\n",
       "      <th></th>\n",
       "      <th></th>\n",
       "    </tr>\n",
       "  </thead>\n",
       "  <tbody>\n",
       "    <tr>\n",
       "      <th>E01000001</th>\n",
       "      <td>37</td>\n",
       "      <td>8</td>\n",
       "      <td>5</td>\n",
       "      <td>7</td>\n",
       "      <td>81</td>\n",
       "      <td>1</td>\n",
       "      <td>4</td>\n",
       "      <td>1</td>\n",
       "      <td>16</td>\n",
       "      <td>25</td>\n",
       "      <td>22</td>\n",
       "      <td>16</td>\n",
       "      <td>E01000001</td>\n",
       "    </tr>\n",
       "    <tr>\n",
       "      <th>E01000002</th>\n",
       "      <td>26</td>\n",
       "      <td>7</td>\n",
       "      <td>10</td>\n",
       "      <td>9</td>\n",
       "      <td>50</td>\n",
       "      <td>0</td>\n",
       "      <td>10</td>\n",
       "      <td>0</td>\n",
       "      <td>10</td>\n",
       "      <td>24</td>\n",
       "      <td>3</td>\n",
       "      <td>25</td>\n",
       "      <td>E01000002</td>\n",
       "    </tr>\n",
       "    <tr>\n",
       "      <th>E01000003</th>\n",
       "      <td>4</td>\n",
       "      <td>0</td>\n",
       "      <td>4</td>\n",
       "      <td>3</td>\n",
       "      <td>2</td>\n",
       "      <td>1</td>\n",
       "      <td>1</td>\n",
       "      <td>0</td>\n",
       "      <td>0</td>\n",
       "      <td>11</td>\n",
       "      <td>0</td>\n",
       "      <td>11</td>\n",
       "      <td>E01000003</td>\n",
       "    </tr>\n",
       "    <tr>\n",
       "      <th>E01000005</th>\n",
       "      <td>17</td>\n",
       "      <td>33</td>\n",
       "      <td>23</td>\n",
       "      <td>37</td>\n",
       "      <td>96</td>\n",
       "      <td>4</td>\n",
       "      <td>24</td>\n",
       "      <td>3</td>\n",
       "      <td>4</td>\n",
       "      <td>28</td>\n",
       "      <td>20</td>\n",
       "      <td>98</td>\n",
       "      <td>E01000005</td>\n",
       "    </tr>\n",
       "    <tr>\n",
       "      <th>E01000006</th>\n",
       "      <td>0</td>\n",
       "      <td>5</td>\n",
       "      <td>7</td>\n",
       "      <td>1</td>\n",
       "      <td>6</td>\n",
       "      <td>0</td>\n",
       "      <td>3</td>\n",
       "      <td>3</td>\n",
       "      <td>0</td>\n",
       "      <td>3</td>\n",
       "      <td>9</td>\n",
       "      <td>25</td>\n",
       "      <td>E01000006</td>\n",
       "    </tr>\n",
       "  </tbody>\n",
       "</table>\n",
       "</div>"
      ],
      "text/plain": [
       "           Bicycle theft  Burglary  Criminal damage and arson  Drugs  \\\n",
       "LSOA code                                                              \n",
       "E01000001             37         8                          5      7   \n",
       "E01000002             26         7                         10      9   \n",
       "E01000003              4         0                          4      3   \n",
       "E01000005             17        33                         23     37   \n",
       "E01000006              0         5                          7      1   \n",
       "\n",
       "           Other theft  Possession of weapons  Public order  Robbery  \\\n",
       "LSOA code                                                              \n",
       "E01000001           81                      1             4        1   \n",
       "E01000002           50                      0            10        0   \n",
       "E01000003            2                      1             1        0   \n",
       "E01000005           96                      4            24        3   \n",
       "E01000006            6                      0             3        3   \n",
       "\n",
       "           Shoplifting  Theft from the person  Vehicle crime  \\\n",
       "LSOA code                                                      \n",
       "E01000001           16                     25             22   \n",
       "E01000002           10                     24              3   \n",
       "E01000003            0                     11              0   \n",
       "E01000005            4                     28             20   \n",
       "E01000006            0                      3              9   \n",
       "\n",
       "           Violence and sexual offences  LSOA code  \n",
       "LSOA code                                           \n",
       "E01000001                            16  E01000001  \n",
       "E01000002                            25  E01000002  \n",
       "E01000003                            11  E01000003  \n",
       "E01000005                            98  E01000005  \n",
       "E01000006                            25  E01000006  "
      ]
     },
     "execution_count": 83,
     "metadata": {},
     "output_type": "execute_result"
    }
   ],
   "source": [
    "df1.head()"
   ]
  },
  {
   "cell_type": "code",
   "execution_count": 84,
   "metadata": {},
   "outputs": [
    {
     "data": {
      "text/html": [
       "<div>\n",
       "<style scoped>\n",
       "    .dataframe tbody tr th:only-of-type {\n",
       "        vertical-align: middle;\n",
       "    }\n",
       "\n",
       "    .dataframe tbody tr th {\n",
       "        vertical-align: top;\n",
       "    }\n",
       "\n",
       "    .dataframe thead th {\n",
       "        text-align: right;\n",
       "    }\n",
       "</style>\n",
       "<table border=\"1\" class=\"dataframe\">\n",
       "  <thead>\n",
       "    <tr style=\"text-align: right;\">\n",
       "      <th></th>\n",
       "      <th>Bicycle theft</th>\n",
       "      <th>Burglary</th>\n",
       "      <th>Criminal damage and arson</th>\n",
       "      <th>Drugs</th>\n",
       "      <th>Other theft</th>\n",
       "      <th>Possession of weapons</th>\n",
       "      <th>Public order</th>\n",
       "      <th>Robbery</th>\n",
       "      <th>Shoplifting</th>\n",
       "      <th>Theft from the person</th>\n",
       "      <th>Vehicle crime</th>\n",
       "      <th>Violence and sexual offences</th>\n",
       "      <th>LSOA code</th>\n",
       "    </tr>\n",
       "    <tr>\n",
       "      <th>LSOA code</th>\n",
       "      <th></th>\n",
       "      <th></th>\n",
       "      <th></th>\n",
       "      <th></th>\n",
       "      <th></th>\n",
       "      <th></th>\n",
       "      <th></th>\n",
       "      <th></th>\n",
       "      <th></th>\n",
       "      <th></th>\n",
       "      <th></th>\n",
       "      <th></th>\n",
       "      <th></th>\n",
       "    </tr>\n",
       "  </thead>\n",
       "  <tbody>\n",
       "    <tr>\n",
       "      <th>W01001730</th>\n",
       "      <td>0</td>\n",
       "      <td>0</td>\n",
       "      <td>0</td>\n",
       "      <td>0</td>\n",
       "      <td>0</td>\n",
       "      <td>0</td>\n",
       "      <td>0</td>\n",
       "      <td>0</td>\n",
       "      <td>0</td>\n",
       "      <td>0</td>\n",
       "      <td>0</td>\n",
       "      <td>1</td>\n",
       "      <td>W01001730</td>\n",
       "    </tr>\n",
       "    <tr>\n",
       "      <th>W01001768</th>\n",
       "      <td>0</td>\n",
       "      <td>0</td>\n",
       "      <td>0</td>\n",
       "      <td>0</td>\n",
       "      <td>0</td>\n",
       "      <td>0</td>\n",
       "      <td>0</td>\n",
       "      <td>0</td>\n",
       "      <td>0</td>\n",
       "      <td>0</td>\n",
       "      <td>1</td>\n",
       "      <td>0</td>\n",
       "      <td>W01001768</td>\n",
       "    </tr>\n",
       "    <tr>\n",
       "      <th>W01001816</th>\n",
       "      <td>0</td>\n",
       "      <td>0</td>\n",
       "      <td>0</td>\n",
       "      <td>0</td>\n",
       "      <td>1</td>\n",
       "      <td>0</td>\n",
       "      <td>0</td>\n",
       "      <td>0</td>\n",
       "      <td>0</td>\n",
       "      <td>0</td>\n",
       "      <td>0</td>\n",
       "      <td>0</td>\n",
       "      <td>W01001816</td>\n",
       "    </tr>\n",
       "    <tr>\n",
       "      <th>W01001825</th>\n",
       "      <td>0</td>\n",
       "      <td>0</td>\n",
       "      <td>0</td>\n",
       "      <td>0</td>\n",
       "      <td>0</td>\n",
       "      <td>0</td>\n",
       "      <td>1</td>\n",
       "      <td>0</td>\n",
       "      <td>0</td>\n",
       "      <td>0</td>\n",
       "      <td>0</td>\n",
       "      <td>0</td>\n",
       "      <td>W01001825</td>\n",
       "    </tr>\n",
       "    <tr>\n",
       "      <th>W01001855</th>\n",
       "      <td>0</td>\n",
       "      <td>0</td>\n",
       "      <td>0</td>\n",
       "      <td>0</td>\n",
       "      <td>0</td>\n",
       "      <td>0</td>\n",
       "      <td>1</td>\n",
       "      <td>0</td>\n",
       "      <td>0</td>\n",
       "      <td>0</td>\n",
       "      <td>0</td>\n",
       "      <td>0</td>\n",
       "      <td>W01001855</td>\n",
       "    </tr>\n",
       "  </tbody>\n",
       "</table>\n",
       "</div>"
      ],
      "text/plain": [
       "           Bicycle theft  Burglary  Criminal damage and arson  Drugs  \\\n",
       "LSOA code                                                              \n",
       "W01001730              0         0                          0      0   \n",
       "W01001768              0         0                          0      0   \n",
       "W01001816              0         0                          0      0   \n",
       "W01001825              0         0                          0      0   \n",
       "W01001855              0         0                          0      0   \n",
       "\n",
       "           Other theft  Possession of weapons  Public order  Robbery  \\\n",
       "LSOA code                                                              \n",
       "W01001730            0                      0             0        0   \n",
       "W01001768            0                      0             0        0   \n",
       "W01001816            1                      0             0        0   \n",
       "W01001825            0                      0             1        0   \n",
       "W01001855            0                      0             1        0   \n",
       "\n",
       "           Shoplifting  Theft from the person  Vehicle crime  \\\n",
       "LSOA code                                                      \n",
       "W01001730            0                      0              0   \n",
       "W01001768            0                      0              1   \n",
       "W01001816            0                      0              0   \n",
       "W01001825            0                      0              0   \n",
       "W01001855            0                      0              0   \n",
       "\n",
       "           Violence and sexual offences  LSOA code  \n",
       "LSOA code                                           \n",
       "W01001730                             1  W01001730  \n",
       "W01001768                             0  W01001768  \n",
       "W01001816                             0  W01001816  \n",
       "W01001825                             0  W01001825  \n",
       "W01001855                             0  W01001855  "
      ]
     },
     "execution_count": 84,
     "metadata": {},
     "output_type": "execute_result"
    }
   ],
   "source": [
    "df1.tail()"
   ]
  },
  {
   "cell_type": "code",
   "execution_count": 85,
   "metadata": {},
   "outputs": [
    {
     "data": {
      "text/plain": [
       "pandas.core.frame.DataFrame"
      ]
     },
     "execution_count": 85,
     "metadata": {},
     "output_type": "execute_result"
    }
   ],
   "source": [
    "type(df1)"
   ]
  },
  {
   "cell_type": "code",
   "execution_count": 86,
   "metadata": {},
   "outputs": [],
   "source": [
    "df1[\"LSOA code\"] = df1.index"
   ]
  },
  {
   "cell_type": "code",
   "execution_count": 87,
   "metadata": {},
   "outputs": [
    {
     "data": {
      "text/plain": [
       "5946"
      ]
     },
     "execution_count": 87,
     "metadata": {},
     "output_type": "execute_result"
    }
   ],
   "source": [
    "len(df1)"
   ]
  },
  {
   "cell_type": "code",
   "execution_count": 88,
   "metadata": {},
   "outputs": [
    {
     "data": {
      "text/plain": [
       "True"
      ]
     },
     "execution_count": 88,
     "metadata": {},
     "output_type": "execute_result"
    }
   ],
   "source": [
    "df1[\"LSOA code\"].is_unique"
   ]
  },
  {
   "cell_type": "code",
   "execution_count": 89,
   "metadata": {},
   "outputs": [
    {
     "data": {
      "text/plain": [
       "5946"
      ]
     },
     "execution_count": 89,
     "metadata": {},
     "output_type": "execute_result"
    }
   ],
   "source": [
    "len(df[\"LSOA code\"].unique())"
   ]
  },
  {
   "cell_type": "code",
   "execution_count": 90,
   "metadata": {},
   "outputs": [],
   "source": [
    "def add_borough(lsoa):\n",
    "    df_temp = df[df[\"LSOA code\"] == lsoa]\n",
    "    name = df_temp[\"LSOA name\"].loc[0]\n",
    "    # long = df_temp[\"Longitude\"]\n",
    "    # lat =  df_temp[\"Latitude\"]\n",
    "    return name"
   ]
  },
  {
   "cell_type": "code",
   "execution_count": 91,
   "metadata": {},
   "outputs": [
    {
     "data": {
      "text/plain": [
       "Index(['Month', 'Reported by', 'Falls within', 'Longitude', 'Latitude',\n",
       "       'Location', 'LSOA code', 'LSOA name', 'Crime type',\n",
       "       'Last outcome category', 'Year'],\n",
       "      dtype='object')"
      ]
     },
     "execution_count": 91,
     "metadata": {},
     "output_type": "execute_result"
    }
   ],
   "source": [
    "df.columns"
   ]
  },
  {
   "cell_type": "code",
   "execution_count": 92,
   "metadata": {},
   "outputs": [],
   "source": [
    "df_location_data = df[[ \"LSOA code\", 'LSOA name' ]]"
   ]
  },
  {
   "cell_type": "code",
   "execution_count": 93,
   "metadata": {},
   "outputs": [
    {
     "data": {
      "text/plain": [
       "5946"
      ]
     },
     "execution_count": 93,
     "metadata": {},
     "output_type": "execute_result"
    }
   ],
   "source": [
    "len(df_location_data[\"LSOA code\"].unique())"
   ]
  },
  {
   "cell_type": "code",
   "execution_count": 94,
   "metadata": {},
   "outputs": [],
   "source": [
    "def clean_location(borough: str):\n",
    "    a = borough.rsplit(' ', 1)[0]\n",
    "    return a"
   ]
  },
  {
   "cell_type": "code",
   "execution_count": 95,
   "metadata": {},
   "outputs": [
    {
     "name": "stderr",
     "output_type": "stream",
     "text": [
      "C:\\Users\\HP\\AppData\\Local\\Temp\\ipykernel_21292\\1039079405.py:1: SettingWithCopyWarning: \n",
      "A value is trying to be set on a copy of a slice from a DataFrame.\n",
      "Try using .loc[row_indexer,col_indexer] = value instead\n",
      "\n",
      "See the caveats in the documentation: https://pandas.pydata.org/pandas-docs/stable/user_guide/indexing.html#returning-a-view-versus-a-copy\n",
      "  df_location_data[\"LSOA name\"] = df_location_data[\"LSOA name\"].apply(clean_location)\n"
     ]
    }
   ],
   "source": [
    "df_location_data[\"LSOA name\"] = df_location_data[\"LSOA name\"].apply(clean_location)"
   ]
  },
  {
   "cell_type": "code",
   "execution_count": 96,
   "metadata": {},
   "outputs": [
    {
     "data": {
      "text/plain": [
       "749702"
      ]
     },
     "execution_count": 96,
     "metadata": {},
     "output_type": "execute_result"
    }
   ],
   "source": [
    "len(df_location_data)"
   ]
  },
  {
   "cell_type": "code",
   "execution_count": 97,
   "metadata": {},
   "outputs": [
    {
     "data": {
      "text/plain": [
       "5946"
      ]
     },
     "execution_count": 97,
     "metadata": {},
     "output_type": "execute_result"
    }
   ],
   "source": [
    "len(df_location_data[\"LSOA code\"].unique())"
   ]
  },
  {
   "cell_type": "code",
   "execution_count": 100,
   "metadata": {},
   "outputs": [],
   "source": [
    "df_location_data = df_location_data.drop_duplicates(subset=[\"LSOA code\"])"
   ]
  },
  {
   "cell_type": "code",
   "execution_count": 101,
   "metadata": {},
   "outputs": [
    {
     "data": {
      "text/plain": [
       "5946"
      ]
     },
     "execution_count": 101,
     "metadata": {},
     "output_type": "execute_result"
    }
   ],
   "source": [
    "# join both dataframe based on a particular column \n",
    "len(df_location_data)"
   ]
  },
  {
   "cell_type": "code",
   "execution_count": 103,
   "metadata": {},
   "outputs": [
    {
     "data": {
      "text/plain": [
       "array(['Camden', 'City of London', 'Hackney', 'Islington',\n",
       "       'Tower Hamlets', 'Westminster', 'Southwark', 'Aylesbury Vale',\n",
       "       'Barking and Dagenham', 'Barnet', 'Bassetlaw', 'Bedford', 'Bexley',\n",
       "       'Bradford', 'Brent', 'Brentwood', 'Bromley',\n",
       "       'Central Bedfordshire', 'Chesterfield', 'Corby', 'Crawley',\n",
       "       'Croydon', 'Dacorum', 'Darlington', 'Dartford', 'Dover', 'Ealing',\n",
       "       'East Riding of Yorkshire', 'Elmbridge', 'Enfield',\n",
       "       'Epping Forest', 'Epsom and Ewell', 'Fareham', 'Gravesham',\n",
       "       'Greenwich', 'Hammersmith and Fulham', 'Harborough', 'Haringey',\n",
       "       'Harrow', 'Hastings', 'Havering', 'Hertsmere', 'Hillingdon',\n",
       "       'Hounslow', 'Huntingdonshire', 'Kensington and Chelsea',\n",
       "       'Kingston upon Hull', 'Kingston upon Thames', 'Lambeth',\n",
       "       'Lewisham', 'Liverpool', 'Manchester', 'Medway', 'Mendip',\n",
       "       'Merthyr Tydfil', 'Merton', 'Newcastle upon Tyne', 'Newham',\n",
       "       'Northampton', 'North East Lincolnshire', 'Preston', 'Redbridge',\n",
       "       'Reigate and Banstead', 'Richmond upon Thames', 'Sandwell',\n",
       "       'Sheffield', 'Spelthorne', 'St Albans', 'St Edmundsbury',\n",
       "       'Suffolk Coastal', 'Sutton', 'Swansea', 'Tandridge',\n",
       "       'Three Rivers', 'Thurrock', 'Waltham Forest', 'Wandsworth',\n",
       "       'Welwyn Hatfield', 'Weymouth and Portland', 'Winchester',\n",
       "       'Birmingham', 'Bournemouth', 'Bracknell Forest', 'Braintree',\n",
       "       'Brighton and Hove', 'Broadland', 'Broxbourne', 'Bury',\n",
       "       'Calderdale', 'Chelmsford', 'Chichester', 'Cornwall',\n",
       "       'East Hertfordshire', 'Exeter', 'Gedling', 'Gloucester',\n",
       "       'Kirklees', 'Leeds', 'Milton Keynes', 'Norwich', 'Sevenoaks',\n",
       "       'Slough', 'Southampton', 'Southend-on-Sea', 'Uttlesford',\n",
       "       'Wakefield', 'West Oxfordshire', 'Basildon', 'Burnley',\n",
       "       'Cambridge', 'Colchester', 'Copeland', 'Doncaster', 'Forest Heath',\n",
       "       'Harlow', 'Hart', 'Luton', 'Mid Devon', 'Mole Valley',\n",
       "       'North Hertfordshire', 'Runnymede', 'South Bucks', 'St. Helens',\n",
       "       'Stoke-on-Trent', 'Swale', 'Taunton Deane', 'Watford', 'Waveney',\n",
       "       'Windsor and Maidenhead', 'Ashford', 'Bristol', 'Cardiff',\n",
       "       'Cherwell', 'Eastbourne', 'Isle of Wight', 'Maidstone', 'Pendle',\n",
       "       'Peterborough', 'Reading', 'Redditch', 'Rother', 'Sedgemoor',\n",
       "       'Sefton', 'South Kesteven', 'Stevenage', 'Tendring', 'Thanet',\n",
       "       'Tonbridge and Malling', 'West Berkshire', 'West Lancashire',\n",
       "       'Wirral', 'Woking', 'Wokingham', 'Wolverhampton', 'Worthing',\n",
       "       'Wychavon', 'Canterbury', 'Cheltenham',\n",
       "       'Cheshire West and Chester', 'Chiltern', 'County Durham',\n",
       "       'Coventry', 'Fylde', 'Gateshead', 'Herefordshire', 'Leicester',\n",
       "       'New Forest', 'North Kesteven', 'North West Leicestershire',\n",
       "       'Oxford', 'Rochford', 'Sunderland', 'Adur', 'Arun', 'Blaby',\n",
       "       'Blackpool', 'Breckland', 'Carmarthenshire', 'Cheshire East',\n",
       "       'Cotswold', 'Derby', 'Derbyshire Dales', 'East Devon',\n",
       "       'East Dorset', 'East Northamptonshire', 'Erewash', 'Hartlepool',\n",
       "       'Horsham', 'Lichfield', 'Maldon', 'Newark and Sherwood',\n",
       "       'Northumberland', 'Oldham', 'Poole', 'Portsmouth', 'Rugby',\n",
       "       'Shropshire', 'South Cambridgeshire', 'South Norfolk',\n",
       "       'Surrey Heath', 'Tunbridge Wells', 'Waverley', 'Wigan',\n",
       "       'Worcester', 'Wycombe', 'York', 'Christchurch', 'East Lindsey',\n",
       "       'Guildford', 'North Norfolk', 'North Tyneside', 'Nottingham',\n",
       "       'Richmondshire', 'Salford', 'Shepway', 'Swindon',\n",
       "       'Vale of White Horse', 'Wealden', 'East Hampshire', 'Gosport',\n",
       "       'Ipswich', 'Kettering', 'Malvern Hills', 'Mid Suffolk',\n",
       "       'Mid Sussex', 'Pembrokeshire', 'Powys', 'Rushmoor', 'Rutland',\n",
       "       'South Oxfordshire', 'South Somerset', 'Stratford-on-Avon',\n",
       "       'Test Valley', 'Torbay', 'Warrington', 'West Lindsey', 'Babergh',\n",
       "       'Bridgend', 'Daventry', 'East Staffordshire', 'Flintshire',\n",
       "       'Lancaster', 'South Staffordshire', 'Teignbridge',\n",
       "       'Basingstoke and Deane', 'Bolton', 'High Peak', 'Isle of Anglesey',\n",
       "       'Nuneaton and Bedworth', 'Tamworth', 'Hinckley and Bosworth',\n",
       "       'Neath Port Talbot', 'South Gloucestershire', 'South Holland',\n",
       "       'Stafford', 'Stockport', 'Tameside', 'Tewkesbury', 'Trafford',\n",
       "       'Barnsley', 'Castle Point', 'East Cambridgeshire', 'Knowsley',\n",
       "       'North Warwickshire', 'Solihull', 'South Derbyshire'], dtype=object)"
      ]
     },
     "execution_count": 103,
     "metadata": {},
     "output_type": "execute_result"
    }
   ],
   "source": [
    "df_location_data[\"LSOA name\"].unique()"
   ]
  },
  {
   "cell_type": "code",
   "execution_count": null,
   "metadata": {},
   "outputs": [],
   "source": []
  }
 ],
 "metadata": {
  "kernelspec": {
   "display_name": "Python 3",
   "language": "python",
   "name": "python3"
  },
  "language_info": {
   "codemirror_mode": {
    "name": "ipython",
    "version": 3
   },
   "file_extension": ".py",
   "mimetype": "text/x-python",
   "name": "python",
   "nbconvert_exporter": "python",
   "pygments_lexer": "ipython3",
   "version": "3.8.8"
  },
  "vscode": {
   "interpreter": {
    "hash": "a9cff5a362bc38ef45d817ae74b1af54d6a076e3d773891282bce078b815ba34"
   }
  }
 },
 "nbformat": 4,
 "nbformat_minor": 2
}
